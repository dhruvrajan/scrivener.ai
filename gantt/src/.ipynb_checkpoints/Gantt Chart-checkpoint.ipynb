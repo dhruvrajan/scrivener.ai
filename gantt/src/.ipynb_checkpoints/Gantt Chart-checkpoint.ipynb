{
 "cells": [
  {
   "cell_type": "code",
   "execution_count": 1,
   "metadata": {
    "collapsed": true
   },
   "outputs": [],
   "source": [
    "from grammar_parser import *"
   ]
  },
  {
   "cell_type": "code",
   "execution_count": 24,
   "metadata": {
    "collapsed": false
   },
   "outputs": [],
   "source": [
    "grammar =\"\"\"\n",
    "S -> NP VP\n",
    "PP -> P NP\n",
    "NP -> Det N | Det N PP | 'I'\n",
    "VP -> V NP | VP PP\n",
    "Det -> 'an' | 'my'\n",
    "N -> 'elephant' | 'pajamas'\n",
    "V -> 'shot'\n",
    "P -> 'in'\n",
    "\"\"\"\n",
    "\n",
    "gantt_grammar = \"\"\"\n",
    "S -> C\n",
    "# Define a clause as a NP or VP or a conjunction combined clause\n",
    "CC -> NP VP | CC Conj CC\n",
    "SC -> SConj CC\n",
    "PP -> P NP\n",
    "NP -> Det N | Det N PP | 'I'\n",
    "VP -> V NP | VP PP | VP Conj VP\n",
    "Det -> 'an' | 'my'\n",
    "Conj -> 'and' | 'or'\n",
    "SConj -> 'while' | 'before'\n",
    "N -> 'elephant' | 'pajamas'\n",
    "V -> 'shot' | 'wore'\n",
    "P -> 'in'\n",
    "\"\"\"\n",
    "\n",
    "nltk_parser = nltk.ChartParser(nltk.CFG.fromstring(gantt_grammar))\n",
    "# [print(rule) for rule in grammar.rules]\n",
    "\n",
    "parsed = nltk_parser.parse(nltk.word_tokenize(\"I shot an elephant in my pajamas\"))\n",
    "for line in parsed:\n",
    "    print(line)"
   ]
  },
  {
   "cell_type": "code",
   "execution_count": null,
   "metadata": {
    "collapsed": true
   },
   "outputs": [],
   "source": []
  }
 ],
 "metadata": {
  "kernelspec": {
   "display_name": "Python 3",
   "language": "python",
   "name": "python3"
  },
  "language_info": {
   "codemirror_mode": {
    "name": "ipython",
    "version": 3
   },
   "file_extension": ".py",
   "mimetype": "text/x-python",
   "name": "python",
   "nbconvert_exporter": "python",
   "pygments_lexer": "ipython3",
   "version": "3.4.3"
  }
 },
 "nbformat": 4,
 "nbformat_minor": 0
}
